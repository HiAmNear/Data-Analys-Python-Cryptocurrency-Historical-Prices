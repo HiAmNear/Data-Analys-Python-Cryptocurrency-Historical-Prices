{
 "cells": [
  {
   "cell_type": "markdown",
   "metadata": {},
   "source": [
    "# Run Main.ipynb"
   ]
  },
  {
   "cell_type": "code",
   "execution_count": 5,
   "metadata": {},
   "outputs": [
    {
     "name": "stdout",
     "output_type": "stream",
     "text": [
      "['C:\\\\Users\\\\gahol\\\\OneDrive\\\\Desktop\\\\IE221-Data-Analys-Python\\\\Cryptocurrency Historical Prices Dataset\\\\coin_Aave.csv', 'C:\\\\Users\\\\gahol\\\\OneDrive\\\\Desktop\\\\IE221-Data-Analys-Python\\\\Cryptocurrency Historical Prices Dataset\\\\coin_BinanceCoin.csv', 'C:\\\\Users\\\\gahol\\\\OneDrive\\\\Desktop\\\\IE221-Data-Analys-Python\\\\Cryptocurrency Historical Prices Dataset\\\\coin_Bitcoin.csv', 'C:\\\\Users\\\\gahol\\\\OneDrive\\\\Desktop\\\\IE221-Data-Analys-Python\\\\Cryptocurrency Historical Prices Dataset\\\\coin_Cardano.csv', 'C:\\\\Users\\\\gahol\\\\OneDrive\\\\Desktop\\\\IE221-Data-Analys-Python\\\\Cryptocurrency Historical Prices Dataset\\\\coin_ChainLink.csv', 'C:\\\\Users\\\\gahol\\\\OneDrive\\\\Desktop\\\\IE221-Data-Analys-Python\\\\Cryptocurrency Historical Prices Dataset\\\\coin_Cosmos.csv', 'C:\\\\Users\\\\gahol\\\\OneDrive\\\\Desktop\\\\IE221-Data-Analys-Python\\\\Cryptocurrency Historical Prices Dataset\\\\coin_CryptocomCoin.csv', 'C:\\\\Users\\\\gahol\\\\OneDrive\\\\Desktop\\\\IE221-Data-Analys-Python\\\\Cryptocurrency Historical Prices Dataset\\\\coin_Dogecoin.csv', 'C:\\\\Users\\\\gahol\\\\OneDrive\\\\Desktop\\\\IE221-Data-Analys-Python\\\\Cryptocurrency Historical Prices Dataset\\\\coin_EOS.csv', 'C:\\\\Users\\\\gahol\\\\OneDrive\\\\Desktop\\\\IE221-Data-Analys-Python\\\\Cryptocurrency Historical Prices Dataset\\\\coin_Ethereum.csv', 'C:\\\\Users\\\\gahol\\\\OneDrive\\\\Desktop\\\\IE221-Data-Analys-Python\\\\Cryptocurrency Historical Prices Dataset\\\\coin_Iota.csv', 'C:\\\\Users\\\\gahol\\\\OneDrive\\\\Desktop\\\\IE221-Data-Analys-Python\\\\Cryptocurrency Historical Prices Dataset\\\\coin_Litecoin.csv', 'C:\\\\Users\\\\gahol\\\\OneDrive\\\\Desktop\\\\IE221-Data-Analys-Python\\\\Cryptocurrency Historical Prices Dataset\\\\coin_Monero.csv', 'C:\\\\Users\\\\gahol\\\\OneDrive\\\\Desktop\\\\IE221-Data-Analys-Python\\\\Cryptocurrency Historical Prices Dataset\\\\coin_NEM.csv', 'C:\\\\Users\\\\gahol\\\\OneDrive\\\\Desktop\\\\IE221-Data-Analys-Python\\\\Cryptocurrency Historical Prices Dataset\\\\coin_Polkadot.csv', 'C:\\\\Users\\\\gahol\\\\OneDrive\\\\Desktop\\\\IE221-Data-Analys-Python\\\\Cryptocurrency Historical Prices Dataset\\\\coin_Solana.csv', 'C:\\\\Users\\\\gahol\\\\OneDrive\\\\Desktop\\\\IE221-Data-Analys-Python\\\\Cryptocurrency Historical Prices Dataset\\\\coin_Stellar.csv', 'C:\\\\Users\\\\gahol\\\\OneDrive\\\\Desktop\\\\IE221-Data-Analys-Python\\\\Cryptocurrency Historical Prices Dataset\\\\coin_Tether.csv', 'C:\\\\Users\\\\gahol\\\\OneDrive\\\\Desktop\\\\IE221-Data-Analys-Python\\\\Cryptocurrency Historical Prices Dataset\\\\coin_Tron.csv', 'C:\\\\Users\\\\gahol\\\\OneDrive\\\\Desktop\\\\IE221-Data-Analys-Python\\\\Cryptocurrency Historical Prices Dataset\\\\coin_Uniswap.csv', 'C:\\\\Users\\\\gahol\\\\OneDrive\\\\Desktop\\\\IE221-Data-Analys-Python\\\\Cryptocurrency Historical Prices Dataset\\\\coin_USDCoin.csv', 'C:\\\\Users\\\\gahol\\\\OneDrive\\\\Desktop\\\\IE221-Data-Analys-Python\\\\Cryptocurrency Historical Prices Dataset\\\\coin_WrappedBitcoin.csv', 'C:\\\\Users\\\\gahol\\\\OneDrive\\\\Desktop\\\\IE221-Data-Analys-Python\\\\Cryptocurrency Historical Prices Dataset\\\\coin_XRP.csv']\n",
      "Aave\n",
      "BinanceCoin\n",
      "Bitcoin\n"
     ]
    }
   ],
   "source": [
    "%run PreProccesser.ipynb"
   ]
  },
  {
   "cell_type": "markdown",
   "metadata": {},
   "source": [
    "# Forecast"
   ]
  },
  {
   "cell_type": "markdown",
   "metadata": {},
   "source": [
    "# Initialization"
   ]
  },
  {
   "cell_type": "code",
   "execution_count": null,
   "metadata": {},
   "outputs": [],
   "source": [
    "class forecast():\n",
    "    def __init__(self):\n",
    "        "
   ]
  }
 ],
 "metadata": {
  "interpreter": {
   "hash": "1cb775f127addc0d0f577ee39aeda8d3bb4dcf360cf6a38b2cd0afe3c0bee8bc"
  },
  "kernelspec": {
   "display_name": "Python 3.10.4 64-bit",
   "language": "python",
   "name": "python3"
  },
  "language_info": {
   "codemirror_mode": {
    "name": "ipython",
    "version": 3
   },
   "file_extension": ".py",
   "mimetype": "text/x-python",
   "name": "python",
   "nbconvert_exporter": "python",
   "pygments_lexer": "ipython3",
   "version": "3.10.4"
  },
  "orig_nbformat": 4
 },
 "nbformat": 4,
 "nbformat_minor": 2
}
