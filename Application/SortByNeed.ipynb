{
 "cells": [
  {
   "cell_type": "code",
   "execution_count": 5,
   "metadata": {},
   "outputs": [
    {
     "name": "stdout",
     "output_type": "stream",
     "text": [
      "Aave\n",
      "BinanceCoin\n",
      "Bitcoin\n"
     ]
    }
   ],
   "source": [
    "%run Main.ipynb"
   ]
  },
  {
   "cell_type": "code",
   "execution_count": 4,
   "metadata": {},
   "outputs": [
    {
     "ename": "UnboundLocalError",
     "evalue": "local variable 'CoinList_df' referenced before assignment",
     "output_type": "error",
     "traceback": [
      "\u001b[1;31m---------------------------------------------------------------------------\u001b[0m",
      "\u001b[1;31mUnboundLocalError\u001b[0m                         Traceback (most recent call last)",
      "\u001b[1;32mc:\\Users\\gahol\\OneDrive\\Desktop\\IE221-Data-Analys-Python\\Application\\SortByNeed.ipynb Cell 4'\u001b[0m in \u001b[0;36m<cell line: 17>\u001b[1;34m()\u001b[0m\n\u001b[0;32m     <a href='vscode-notebook-cell:/c%3A/Users/gahol/OneDrive/Desktop/IE221-Data-Analys-Python/Application/SortByNeed.ipynb#ch0000003?line=13'>14</a>\u001b[0m Coin\u001b[39m=\u001b[39mSortByNeed()\n\u001b[0;32m     <a href='vscode-notebook-cell:/c%3A/Users/gahol/OneDrive/Desktop/IE221-Data-Analys-Python/Application/SortByNeed.ipynb#ch0000003?line=14'>15</a>\u001b[0m output \u001b[39m=\u001b[39m (Coin\u001b[39m.\u001b[39mSymbol, Coin\u001b[39m.\u001b[39mDate, Coin\u001b[39m.\u001b[39mHigh, Coin\u001b[39m.\u001b[39mLow, Coin\u001b[39m.\u001b[39mOpen, Coin\u001b[39m.\u001b[39mClose,Coin\u001b[39m.\u001b[39mVolume,Coin\u001b[39m.\u001b[39mMarketcap)\n\u001b[1;32m---> <a href='vscode-notebook-cell:/c%3A/Users/gahol/OneDrive/Desktop/IE221-Data-Analys-Python/Application/SortByNeed.ipynb#ch0000003?line=16'>17</a>\u001b[0m SortByNeed\u001b[39m.\u001b[39;49mSortByPrice(\u001b[39m0.109013\u001b[39;49m,\u001b[39m55.112358\u001b[39;49m)\n",
      "\u001b[1;32mc:\\Users\\gahol\\OneDrive\\Desktop\\IE221-Data-Analys-Python\\Application\\SortByNeed.ipynb Cell 4'\u001b[0m in \u001b[0;36mSortByNeed.SortByPrice\u001b[1;34m(LowChoose, HighChoose)\u001b[0m\n\u001b[0;32m     <a href='vscode-notebook-cell:/c%3A/Users/gahol/OneDrive/Desktop/IE221-Data-Analys-Python/Application/SortByNeed.ipynb#ch0000003?line=9'>10</a>\u001b[0m \u001b[39mdef\u001b[39;00m \u001b[39mSortByPrice\u001b[39m(LowChoose,HighChoose):\n\u001b[1;32m---> <a href='vscode-notebook-cell:/c%3A/Users/gahol/OneDrive/Desktop/IE221-Data-Analys-Python/Application/SortByNeed.ipynb#ch0000003?line=10'>11</a>\u001b[0m     CoinList_df \u001b[39m=\u001b[39m CoinList_df[(CoinList_df[\u001b[39m'\u001b[39m\u001b[39mLow\u001b[39m\u001b[39m'\u001b[39m] \u001b[39m>\u001b[39m LowChoose) \u001b[39m|\u001b[39m (CoinList_df[\u001b[39m'\u001b[39m\u001b[39mHigh\u001b[39m\u001b[39m'\u001b[39m] \u001b[39m<\u001b[39m HighChoose)]\n",
      "\u001b[1;31mUnboundLocalError\u001b[0m: local variable 'CoinList_df' referenced before assignment"
     ]
    }
   ],
   "source": [
    "class SortByNeed():\n",
    "    Symbol = CoinList_df['Symbol']\n",
    "    Date = CoinList_df['Date']\n",
    "    High = CoinList_df['High']\n",
    "    Low = CoinList_df['Low']\n",
    "    Open = CoinList_df['Open']\n",
    "    Close = CoinList_df['Close']\n",
    "    Volume = CoinList_df['Volume']\n",
    "    Marketcap = CoinList_df['Marketcap']\n",
    "    def SortByPrice(LowChoose,HighChoose):\n",
    "        CoinList_df = CoinList_df[(CoinList_df['Low'] > LowChoose) | (CoinList_df['High'] < HighChoose)]\n",
    "        \n",
    "        \n",
    "Coin=SortByNeed()\n",
    "output = (Coin.Symbol, Coin.Date, Coin.High, Coin.Low, Coin.Open, Coin.Close,Coin.Volume,Coin.Marketcap)\n",
    "\n",
    "SortByNeed.SortByPrice(0.109013,55.112358)"
   ]
  }
 ],
 "metadata": {
  "interpreter": {
   "hash": "9ae6fd79ca46faeb539ae06c88c88bf1d6db220605158e00fb63130aeabb1ad4"
  },
  "kernelspec": {
   "display_name": "Python 3.10.4 64-bit",
   "language": "python",
   "name": "python3"
  },
  "language_info": {
   "codemirror_mode": {
    "name": "ipython",
    "version": 3
   },
   "file_extension": ".py",
   "mimetype": "text/x-python",
   "name": "python",
   "nbconvert_exporter": "python",
   "pygments_lexer": "ipython3",
   "version": "3.10.4"
  },
  "orig_nbformat": 4
 },
 "nbformat": 4,
 "nbformat_minor": 2
}
