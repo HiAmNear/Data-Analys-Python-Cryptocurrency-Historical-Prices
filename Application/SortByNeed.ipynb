{
 "cells": [
  {
   "cell_type": "code",
   "execution_count": 1,
   "metadata": {},
   "outputs": [
    {
     "name": "stdout",
     "output_type": "stream",
     "text": [
      "Aave\n",
      "BinanceCoin\n",
      "Bitcoin\n"
     ]
    }
   ],
   "source": [
    "%run DatasetReading.ipynb"
   ]
  },
  {
   "cell_type": "code",
   "execution_count": 47,
   "metadata": {},
   "outputs": [],
   "source": [
    "CoinList_df = pd.concat([Dataread().Aave,Dataread().Bitcoin,Dataread().BinanceCoin,Dataread().Cardano\n",
    "           ,Dataread().ChainLink,Dataread().Cosmos,Dataread().CryptocomCoin\n",
    "           ,Dataread().Dogecoin,Dataread().EOS,Dataread().Ethereum,Dataread().Iota\n",
    "           ,Dataread().Litecoin,Dataread().Monero,Dataread().Polkadot,Dataread().NEM\n",
    "           ,Dataread().Solana,Dataread().Stellar,Dataread().Tether,Dataread().Tron\n",
    "           ,Dataread().Uniswap,Dataread().USDCoin,Dataread().WrappedBitcoin,Dataread().XRP])"
   ]
  },
  {
   "cell_type": "code",
   "execution_count": 49,
   "metadata": {},
   "outputs": [
    {
     "data": {
      "text/plain": [
       "0       2020-10-05 23:59:59\n",
       "1       2020-10-06 23:59:59\n",
       "2       2020-10-07 23:59:59\n",
       "3       2020-10-08 23:59:59\n",
       "4       2020-10-09 23:59:59\n",
       "               ...         \n",
       "2888    2021-07-02 23:59:59\n",
       "2889    2021-07-03 23:59:59\n",
       "2890    2021-07-04 23:59:59\n",
       "2891    2021-07-05 23:59:59\n",
       "2892    2021-07-06 23:59:59\n",
       "Name: Date, Length: 37082, dtype: object"
      ]
     },
     "execution_count": 49,
     "metadata": {},
     "output_type": "execute_result"
    }
   ],
   "source": [
    "class SortByNeed():\n",
    "    Symbol = CoinList_df['Symbol']\n",
    "    Date = CoinList_df['Date']\n",
    "    High = CoinList_df['High']\n",
    "    Low = CoinList_df['Low']\n",
    "    Open = CoinList_df['Open']\n",
    "    Close = CoinList_df['Close']\n",
    "    Volume = CoinList_df['Volume']\n",
    "    Marketcap = CoinList_df['Marketcap']\n",
    "    \n",
    "        \n",
    "SortByNeed().Date"
   ]
  }
 ],
 "metadata": {
  "interpreter": {
   "hash": "9ae6fd79ca46faeb539ae06c88c88bf1d6db220605158e00fb63130aeabb1ad4"
  },
  "kernelspec": {
   "display_name": "Python 3.10.4 64-bit",
   "language": "python",
   "name": "python3"
  },
  "language_info": {
   "codemirror_mode": {
    "name": "ipython",
    "version": 3
   },
   "file_extension": ".py",
   "mimetype": "text/x-python",
   "name": "python",
   "nbconvert_exporter": "python",
   "pygments_lexer": "ipython3",
   "version": "3.10.4"
  },
  "orig_nbformat": 4
 },
 "nbformat": 4,
 "nbformat_minor": 2
}
