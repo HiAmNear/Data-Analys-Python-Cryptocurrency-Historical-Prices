{
 "cells": [
  {
   "cell_type": "markdown",
   "metadata": {},
   "source": [
    "# run file"
   ]
  },
  {
   "cell_type": "code",
   "execution_count": 17,
   "metadata": {},
   "outputs": [],
   "source": [
    "%run ./Library.ipynb"
   ]
  },
  {
   "cell_type": "code",
   "execution_count": 23,
   "metadata": {},
   "outputs": [],
   "source": [
    "%run ./Dataframe.ipynb"
   ]
  },
  {
   "cell_type": "code",
   "execution_count": 18,
   "metadata": {},
   "outputs": [],
   "source": [
    "%run ./Binance_keys.ipynb"
   ]
  },
  {
   "cell_type": "markdown",
   "metadata": {},
   "source": [
    "# Main"
   ]
  },
  {
   "cell_type": "code",
   "execution_count": 19,
   "metadata": {},
   "outputs": [],
   "source": [
    "client = Client(api_key,api_secret)\n",
    "posframe = pd.read_csv('positioncheck')"
   ]
  },
  {
   "cell_type": "code",
   "execution_count": 20,
   "metadata": {},
   "outputs": [],
   "source": [
    "def get_hourly_data(symbol):\n",
    "    frame = pd.DataFrame(client.get_historical_klines(symbol,\n",
    "                                                      '1h',\n",
    "                                                      '75 hours ago UTC'))\n",
    "    frame = frame[[0,4]]\n",
    "    frame.columns = ['Time','Close']\n",
    "    frame.Close = frame.Close.astype(float)\n",
    "    frame.Time = pd.to_datetime(frame.Time, unit='ms')\n",
    "    return frame"
   ]
  },
  {
   "cell_type": "code",
   "execution_count": 22,
   "metadata": {},
   "outputs": [
    {
     "ename": "NameError",
     "evalue": "name 'symbol' is not defined",
     "output_type": "error",
     "traceback": [
      "\u001b[1;31m---------------------------------------------------------------------------\u001b[0m",
      "\u001b[1;31mNameError\u001b[0m                                 Traceback (most recent call last)",
      "\u001b[1;32mc:\\Users\\gahol\\OneDrive\\Desktop\\IE221-Data-Analys-Python\\Dynamic Data\\Main.ipynb Cell 8'\u001b[0m in \u001b[0;36m<cell line: 1>\u001b[1;34m()\u001b[0m\n\u001b[1;32m----> <a href='vscode-notebook-cell:/c%3A/Users/gahol/OneDrive/Desktop/IE221-Data-Analys-Python/Dynamic%20Data/Main.ipynb#ch0000004?line=0'>1</a>\u001b[0m frame \u001b[39m=\u001b[39m pd\u001b[39m.\u001b[39mDataFrame(client\u001b[39m.\u001b[39mget_historical_klines(symbol,\n\u001b[0;32m      <a href='vscode-notebook-cell:/c%3A/Users/gahol/OneDrive/Desktop/IE221-Data-Analys-Python/Dynamic%20Data/Main.ipynb#ch0000004?line=1'>2</a>\u001b[0m                                                 \u001b[39m'\u001b[39m\u001b[39m1h\u001b[39m\u001b[39m'\u001b[39m,\n\u001b[0;32m      <a href='vscode-notebook-cell:/c%3A/Users/gahol/OneDrive/Desktop/IE221-Data-Analys-Python/Dynamic%20Data/Main.ipynb#ch0000004?line=2'>3</a>\u001b[0m                                                 \u001b[39m'\u001b[39m\u001b[39m75 hours ago UTC\u001b[39m\u001b[39m'\u001b[39m))\n",
      "\u001b[1;31mNameError\u001b[0m: name 'symbol' is not defined"
     ]
    }
   ],
   "source": [
    "frame = pd.DataFrame(client.get_historical_klines(symbol,\n",
    "                                                '1h',\n",
    "                                                '75 hours ago UTC'))"
   ]
  }
 ],
 "metadata": {
  "interpreter": {
   "hash": "1cb775f127addc0d0f577ee39aeda8d3bb4dcf360cf6a38b2cd0afe3c0bee8bc"
  },
  "kernelspec": {
   "display_name": "Python 3.10.4 64-bit",
   "language": "python",
   "name": "python3"
  },
  "language_info": {
   "codemirror_mode": {
    "name": "ipython",
    "version": 3
   },
   "file_extension": ".py",
   "mimetype": "text/x-python",
   "name": "python",
   "nbconvert_exporter": "python",
   "pygments_lexer": "ipython3",
   "version": "3.10.4"
  },
  "orig_nbformat": 4
 },
 "nbformat": 4,
 "nbformat_minor": 2
}
