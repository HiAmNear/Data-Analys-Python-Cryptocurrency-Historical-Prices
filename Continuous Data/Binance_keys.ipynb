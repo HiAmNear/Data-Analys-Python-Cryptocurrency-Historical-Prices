{
 "cells": [
  {
   "cell_type": "code",
   "execution_count": null,
   "metadata": {},
   "outputs": [],
   "source": [
    "api_key = 'Cuow4w3CqdsGnXqMZI87E4M6hLthGrvdiiyl7MdUEBqZyTbPjLD5W55xgJlG5ubB'"
   ]
  },
  {
   "cell_type": "code",
   "execution_count": null,
   "metadata": {},
   "outputs": [],
   "source": [
    "api_secret = 'xxCNF9V6vpp9sfMiyuQf9Os4YmnnqqOUnG2NeRrmVVteLvb175Aw8uwvMLHfO7Rk'"
   ]
  }
 ],
 "metadata": {
  "language_info": {
   "name": "python"
  },
  "orig_nbformat": 4
 },
 "nbformat": 4,
 "nbformat_minor": 2
}
